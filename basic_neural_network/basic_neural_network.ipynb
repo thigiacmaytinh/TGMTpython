{
 "cells": [
  {
   "cell_type": "markdown",
   "metadata": {},
   "source": [
    "### Tạo dữ liệu\n",
    "Tạo bộ trainset là mảng 2 chiều có 10.000 phần tử, mỗi phần tử là mảng 1 chiều chứa 1 số thực trong khoảng [0:1]"
   ]
  },
  {
   "cell_type": "code",
   "execution_count": 1,
   "metadata": {},
   "outputs": [
    {
     "name": "stdout",
     "output_type": "stream",
     "text": [
      "[[0.55703131]\n",
      " [0.41662379]\n",
      " [0.92448384]\n",
      " [0.81816831]\n",
      " [0.14259306]]\n"
     ]
    }
   ],
   "source": [
    "import numpy as np\n",
    "\n",
    "data = np.random.random(10000)\n",
    "data.shape = 10000, 1\n",
    "print(data[:5])  # Look at the first five observations"
   ]
  },
  {
   "cell_type": "markdown",
   "metadata": {},
   "source": [
    "### Tạo label"
   ]
  },
  {
   "cell_type": "code",
   "execution_count": 2,
   "metadata": {},
   "outputs": [
    {
     "name": "stdout",
     "output_type": "stream",
     "text": [
      "[[1]\n",
      " [0]\n",
      " [1]\n",
      " [1]\n",
      " [0]]\n"
     ]
    }
   ],
   "source": [
    "labels = np.array(data >= .5, dtype=int)\n",
    "print(labels[:5])  # Look at the first five labels"
   ]
  },
  {
   "cell_type": "markdown",
   "metadata": {},
   "source": [
    "### Build neural network architect"
   ]
  },
  {
   "cell_type": "code",
   "execution_count": 65,
   "metadata": {},
   "outputs": [
    {
     "name": "stdout",
     "output_type": "stream",
     "text": [
      "Model: \"sequential_8\"\n",
      "_________________________________________________________________\n",
      "Layer (type)                 Output Shape              Param #   \n",
      "=================================================================\n",
      "dense_16 (Dense)             (None, 16)                32        \n",
      "_________________________________________________________________\n",
      "dense_17 (Dense)             (None, 2)                 34        \n",
      "=================================================================\n",
      "Total params: 66\n",
      "Trainable params: 66\n",
      "Non-trainable params: 0\n",
      "_________________________________________________________________\n"
     ]
    }
   ],
   "source": [
    "from keras import Sequential\n",
    "from keras.layers import Dense\n",
    "\n",
    "model = Sequential([\n",
    "    Dense(units=16, input_shape=(1,), activation='relu'),\n",
    "    Dense(units=2, activation='softmax'),\n",
    "])\n",
    "\n",
    "model.compile(\n",
    "    optimizer='adam',\n",
    "    loss='sparse_categorical_crossentropy',\n",
    "    metrics=['accuracy']\n",
    ")\n",
    "\n",
    "model.summary()"
   ]
  },
  {
   "cell_type": "markdown",
   "metadata": {},
   "source": [
    "### Training"
   ]
  },
  {
   "cell_type": "code",
   "execution_count": 66,
   "metadata": {},
   "outputs": [
    {
     "name": "stdout",
     "output_type": "stream",
     "text": [
      "Epoch 1/10\n",
      "282/282 [==============================] - 1s 4ms/step - loss: 0.6074 - accuracy: 0.6648 - val_loss: 0.4965 - val_accuracy: 0.8370\n",
      "Epoch 2/10\n",
      "282/282 [==============================] - 1s 4ms/step - loss: 0.4119 - accuracy: 0.8920 - val_loss: 0.3293 - val_accuracy: 0.9370\n",
      "Epoch 3/10\n",
      "282/282 [==============================] - 1s 4ms/step - loss: 0.2743 - accuracy: 0.9608 - val_loss: 0.2201 - val_accuracy: 0.9990\n",
      "Epoch 4/10\n",
      "282/282 [==============================] - 1s 4ms/step - loss: 0.1871 - accuracy: 0.9873 - val_loss: 0.1526 - val_accuracy: 0.9940\n",
      "Epoch 5/10\n",
      "282/282 [==============================] - 1s 4ms/step - loss: 0.1370 - accuracy: 0.9930 - val_loss: 0.1162 - val_accuracy: 0.9930\n",
      "Epoch 6/10\n",
      "282/282 [==============================] - 1s 4ms/step - loss: 0.1092 - accuracy: 0.9960 - val_loss: 0.0949 - val_accuracy: 0.9940\n",
      "Epoch 7/10\n",
      "282/282 [==============================] - 1s 4ms/step - loss: 0.0921 - accuracy: 0.9951 - val_loss: 0.0821 - val_accuracy: 0.9910\n",
      "Epoch 8/10\n",
      "282/282 [==============================] - 1s 4ms/step - loss: 0.0805 - accuracy: 0.9963 - val_loss: 0.0718 - val_accuracy: 1.0000\n",
      "Epoch 9/10\n",
      "282/282 [==============================] - 1s 4ms/step - loss: 0.0718 - accuracy: 0.9966 - val_loss: 0.0646 - val_accuracy: 0.9990\n",
      "Epoch 10/10\n",
      "282/282 [==============================] - 1s 4ms/step - loss: 0.0653 - accuracy: 0.9978 - val_loss: 0.0589 - val_accuracy: 1.0000\n"
     ]
    },
    {
     "data": {
      "text/plain": [
       "<keras.callbacks.History at 0x21bf88b1470>"
      ]
     },
     "execution_count": 66,
     "metadata": {},
     "output_type": "execute_result"
    }
   ],
   "source": [
    "model.fit(x=data, y=labels, epochs=10, verbose=1, validation_split=.1)"
   ]
  },
  {
   "cell_type": "markdown",
   "metadata": {},
   "source": [
    "### Predict"
   ]
  },
  {
   "cell_type": "code",
   "execution_count": 71,
   "metadata": {},
   "outputs": [
    {
     "name": "stdout",
     "output_type": "stream",
     "text": [
      "[[9.9675399e-01 3.2459756e-03]\n",
      " [9.9645364e-01 3.5463821e-03]\n",
      " [9.9612552e-01 3.8744819e-03]\n",
      " [9.9502397e-01 4.9761017e-03]\n",
      " [9.3343055e-01 6.6569440e-02]\n",
      " [4.9268994e-01 5.0731003e-01]\n",
      " [6.3026063e-02 9.3697399e-01]\n",
      " [4.6373233e-03 9.9536264e-01]\n",
      " [3.2258101e-04 9.9967742e-01]\n",
      " [2.2349210e-05 9.9997771e-01]]\n",
      "[0 0 0 0 0 1 1 1 1 1]\n"
     ]
    }
   ],
   "source": [
    "test_set = [ 0, 0.1, 0.2, 0.3, 0.4, 0.5, 0.6, 0.7, 0.8, 0.9]\n",
    "predictions = model.predict(np.array(test_set))\n",
    "print(predictions)\n",
    "\n",
    "predicted = np.argmax(predictions, axis=1)\n",
    "print(predicted)\n"
   ]
  },
  {
   "cell_type": "markdown",
   "metadata": {},
   "source": [
    "### Save model"
   ]
  },
  {
   "cell_type": "code",
   "execution_count": 68,
   "metadata": {},
   "outputs": [],
   "source": [
    "model.save('simple_model.keras')"
   ]
  },
  {
   "cell_type": "markdown",
   "metadata": {},
   "source": [
    "### Load model"
   ]
  },
  {
   "cell_type": "code",
   "execution_count": 3,
   "metadata": {},
   "outputs": [
    {
     "name": "stdout",
     "output_type": "stream",
     "text": [
      "[[2.2349210e-05 9.9997771e-01]\n",
      " [3.2258101e-04 9.9967742e-01]\n",
      " [4.6373233e-03 9.9536264e-01]\n",
      " [6.3026063e-02 9.3697399e-01]\n",
      " [4.9268994e-01 5.0731003e-01]\n",
      " [9.3343055e-01 6.6569440e-02]\n",
      " [9.9502397e-01 4.9761017e-03]\n",
      " [9.9612552e-01 3.8744819e-03]\n",
      " [9.9645364e-01 3.5463821e-03]\n",
      " [9.9675399e-01 3.2459756e-03]]\n",
      "[1 1 1 1 1 0 0 0 0 0]\n"
     ]
    }
   ],
   "source": [
    "import keras\n",
    "import numpy as np\n",
    "\n",
    "model = keras.models.load_model('simple_model.keras')\n",
    "\n",
    "test_set = [0.9, 0.8, 0.7, 0.6, 0.5, 0.4, 0.3, 0.2, 0.1, 0]\n",
    "predictions = model.predict(np.array(test_set))\n",
    "\n",
    "predicted = np.argmax(predictions, axis=1)\n",
    "print(predicted)"
   ]
  }
 ],
 "metadata": {
  "kernelspec": {
   "display_name": "Python 3",
   "language": "python",
   "name": "python3"
  },
  "language_info": {
   "codemirror_mode": {
    "name": "ipython",
    "version": 3
   },
   "file_extension": ".py",
   "mimetype": "text/x-python",
   "name": "python",
   "nbconvert_exporter": "python",
   "pygments_lexer": "ipython3",
   "version": "3.7.3"
  }
 },
 "nbformat": 4,
 "nbformat_minor": 2
}
