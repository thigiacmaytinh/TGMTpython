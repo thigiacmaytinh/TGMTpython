{
 "cells": [
  {
   "attachments": {},
   "cell_type": "markdown",
   "metadata": {},
   "source": [
    "### Download nhiều file cùng lúc"
   ]
  },
  {
   "cell_type": "code",
   "execution_count": 3,
   "metadata": {},
   "outputs": [],
   "source": [
    "import urllib.request\n",
    "import os\n",
    "import threading\n",
    "\n",
    "def Download(url, saveDir=None, destFileName=None):\n",
    "    if(saveDir == None):\n",
    "        saveDir = '.'\n",
    "    if(destFileName == None):\n",
    "        destFileName = os.path.basename(url)\n",
    "        destFileName = os.path.join(saveDir, destFileName)\n",
    "\n",
    "    urllib.request.urlretrieve(url, destFileName)\n",
    "\n",
    "\n",
    "url1 = 'https://viscomsolution.com/download/file1.txt'\n",
    "url2 = 'https://viscomsolution.com/download/file2.txt'\n",
    "\n",
    "thread1 = threading.Thread(target=Download, args=(url1,))\n",
    "thread2 = threading.Thread(target=Download, args=(url2,))\n",
    "\n",
    "thread1.start()\n",
    "thread2.start()"
   ]
  },
  {
   "attachments": {},
   "cell_type": "markdown",
   "metadata": {},
   "source": [
    "### Chạy 2 function và so sánh kết quả"
   ]
  },
  {
   "cell_type": "code",
   "execution_count": 5,
   "metadata": {},
   "outputs": [
    {
     "name": "stdout",
     "output_type": "stream",
     "text": [
      "Best value is: 39%\n"
     ]
    }
   ],
   "source": [
    "import threading\n",
    "import random\n",
    "import time\n",
    "\n",
    "class ThreadWithReturnValue(threading.Thread):\n",
    "    def __init__(self, group=None, target=None, name=None,\n",
    "                 args=(), kwargs={}, Verbose=None):\n",
    "        threading.Thread.__init__(self, group, target, name, args, kwargs)\n",
    "        self._return = None\n",
    "\n",
    "    def run(self):\n",
    "        if self._target is not None:\n",
    "            self._return = self._target(*self._args, **self._kwargs)\n",
    "\n",
    "    def join(self, *args):\n",
    "        threading.Thread.join(self, *args)\n",
    "        return self._return\n",
    "    \n",
    "def PredictByModel1():\n",
    "    sleepSecond = random.randint(0, 5)\n",
    "\n",
    "    time.sleep(sleepSecond)\n",
    "\n",
    "    percentPredicted = random.randint(0, 100)\n",
    "    return percentPredicted\n",
    "\n",
    "def PredictByModel2():\n",
    "    sleepSecond = random.randint(0, 5)\n",
    "    time.sleep(sleepSecond)\n",
    "\n",
    "    percentPredicted = random.randint(0, 100)\n",
    "    return percentPredicted\n",
    "\n",
    "\n",
    "thread1 = ThreadWithReturnValue(target=PredictByModel1)\n",
    "thread2 = ThreadWithReturnValue(target=PredictByModel2)\n",
    "\n",
    "thread1.start()\n",
    "thread2.start()\n",
    "percent1 = thread1.join()\n",
    "percent2 = thread2.join()\n",
    "\n",
    "if(percent1 > percent2):\n",
    "    print(\"Best value is: {0}%\".format(percent1))\n",
    "else:\n",
    "    print(\"Best value is: {0}%\".format(percent2))\n",
    "    "
   ]
  }
 ],
 "metadata": {
  "kernelspec": {
   "display_name": "Python 3",
   "language": "python",
   "name": "python3"
  },
  "language_info": {
   "codemirror_mode": {
    "name": "ipython",
    "version": 3
   },
   "file_extension": ".py",
   "mimetype": "text/x-python",
   "name": "python",
   "nbconvert_exporter": "python",
   "pygments_lexer": "ipython3",
   "version": "3.7.3"
  },
  "orig_nbformat": 4
 },
 "nbformat": 4,
 "nbformat_minor": 2
}
